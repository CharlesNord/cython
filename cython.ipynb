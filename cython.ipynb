{
 "cells": [
  {
   "cell_type": "markdown",
   "metadata": {},
   "source": [
    "## 用 Cython 加快 Python 循环速度\n",
    "\n",
    "本文翻译自该[博客](nealhughes.net/cython1)\n",
    "Cython 是 Python 语言到 C 语言的翻译器, 它能让你利用 Python 类似的语法达到接近 C 语言的运行速度。\n",
    "\n",
    "\n",
    "本文介绍了如何用 Cython 来对单一包含紧凑循环（\"tight loops\"）的 Python 函数进行加速。在后续的文章中将会介绍关于 Cython 更复杂的应用，例如包含各种函数和类的情况。\n",
    "\n",
    "## 什么时候该使用 Cython\n",
    "\n",
    "你可以选择很多种方案来提升自己 Python 代码的运行速度，各种方案的具体对比请参考 [quantecon](https://lectures.quantecon.org/py/need_for_speed.html)。当然，你也可以选择另一种更快的语言来实现自己的项目，比如 Julia 或者干脆横下心来用 C 语言。\n",
    "\n",
    "Cython 静态编译并不是什么前沿技术，这是一项很成熟而且有良好文档支持的技术，能够应付复杂的大型项目。很多 Python 科学计算库后台采用了 Cython 代码，例如 `pandas` 和 `scikit-learn`。\n",
    "\n",
    "## 例子\n",
    "\n",
    "我们这里的例程实现了一种[径向基函数](https://en.wikipedia.org/wiki/Radial_basis_function)的近似计算。\n",
    "\n",
    "$$\n",
    "\\hat{Y}_i = \\sum_{j=1}^N \\beta_j e^{(-(\\theta\\left\\Vert X_i-X_j\\right\\Vert)^2)}\n",
    "$$\n",
    "\n",
    "这个函数的输入为 $N$ 行 $D$ 列的数组 $X$，长度为 $N$ 的参数数组 $\\beta$ 以及一个带宽('bandwidth') 参数 $\\theta$，返回长度为 $N$ 的数组 $\\hat{Y}$。\n",
    "\n",
    "## Python 循环\n",
    "\n",
    "下面是对上述函数的一个最初版本的 Python 实现。"
   ]
  },
  {
   "cell_type": "code",
   "execution_count": null,
   "metadata": {
    "collapsed": true
   },
   "outputs": [],
   "source": [
    "from math import exp\n",
    "import numpy as np\n",
    "\n",
    "def rbf_network(X, beta, theta):\n",
    "    N = X.shape[0]\n",
    "    D = X.shape[1]\n",
    "    Y = np.zeros(N)\n",
    "    \n",
    "    for i in range(N):\n",
    "        for j in range(N):\n",
    "            r = 0\n",
    "            for d in range(D):\n",
    "                r += (X[j,d]-X[i,d])**2\n",
    "            r = r**0.5\n",
    "            Y[i] += beta[j]*exp(-(r*theta)**2)\n",
    "    \n",
    "    return Y"
   ]
  },
  {
   "cell_type": "markdown",
   "metadata": {},
   "source": [
    "接下来生成一些数据："
   ]
  },
  {
   "cell_type": "code",
   "execution_count": 1,
   "metadata": {
    "collapsed": true
   },
   "outputs": [],
   "source": [
    "import numpy as np\n",
    "D = 5\n",
    "N = 1000\n",
    "X = np.array([np.random.rand(D) for d in range(N)])\n",
    "beta = np.random.rand(N)\n",
    "theta = 10"
   ]
  },
  {
   "cell_type": "markdown",
   "metadata": {},
   "source": [
    "在 IPython 中测算运行时间"
   ]
  },
  {
   "cell_type": "code",
   "execution_count": null,
   "metadata": {
    "collapsed": false
   },
   "outputs": [],
   "source": [
    "%timeit rbf_network(X, beta, theta) # 5.15 s per loop"
   ]
  },
  {
   "cell_type": "markdown",
   "metadata": {},
   "source": [
    "果然这些 Python 循环很慢！\n",
    "\n",
    "## scipy.interpolate.Rbf\n",
    "\n",
    "这种情况下，我们幸运地找到了基于 numpy 的 RBF 实现。"
   ]
  },
  {
   "cell_type": "code",
   "execution_count": null,
   "metadata": {
    "collapsed": false
   },
   "outputs": [],
   "source": [
    "from scipy.interpolate import Rbf\n",
    "rbf = Rbf(X[:,0],X[:,1],X[:,2],X[:,3],X[:,4], np.random.rand(N))\n",
    "Xtuple = tuple([X[:,i] for i in range(D)])\n",
    "\n",
    "%timeit rbf(Xtuple) #336 ms per loop"
   ]
  },
  {
   "cell_type": "markdown",
   "metadata": {},
   "source": [
    "现在好多了！但是如果我们想把程序运行得快一点，但却找不到可用的函数库呢？\n",
    "\n",
    "## Cython\n",
    "\n",
    "我们在文件 `fastloop.pyx` 中实现 Cython 版本的代码，其内容如下"
   ]
  },
  {
   "cell_type": "markdown",
   "metadata": {},
   "source": [
    "```python\n",
    "from math import exp\n",
    "import numpy as np\n",
    "\n",
    "def rbf_network(double[:, :] X, double[:] beta, double theta):\n",
    "    cdef int N = X.shape[0]\n",
    "    cdef int D = X.shape[1]\n",
    "    cdef double[:] Y = np.zeros(N)\n",
    "    cdef int i, j, d\n",
    "    cdef double r = 0\n",
    "    \n",
    "    for i in range(N):\n",
    "        for j in range(N):\n",
    "            r = 0\n",
    "            for d in range(D):\n",
    "                r += (X[j, d]-X[i, d])**2\n",
    "            r = r**0.5\n",
    "            Y[i] += beta[j] * exp(-(r*theta)**2)\n",
    "    \n",
    "    return Y\n",
    "```"
   ]
  },
  {
   "cell_type": "markdown",
   "metadata": {},
   "source": [
    "目前为止我们做的工作仅仅是在变量名前面增加了一些类型声明。对局部变量，我们采用 `cdef` 关键字。对 array 数组，我们采用 ['memoryviews'](docs.cython.org/en/latest/src/userguide/memoryviews.html) 来接受 numpy 数组输入。\n",
    "\n",
    "值得注意的是，在 `*.pyx` 文件中，你没有必要对变量进行声明，任何没有声明类型的变量都会留在 Python 中，而不会被翻译为 C 类型。\n",
    "\n",
    "为了编译上面的 `fastloop.pyx` 文件，我们需要写一个 `setup.py` 脚本，内容如下所示"
   ]
  },
  {
   "cell_type": "markdown",
   "metadata": {},
   "source": [
    "```python\n",
    "from distutils.core import setup\n",
    "from Cython.Build import cythonize\n",
    "\n",
    "setup(name='fastloop', ext_modules=cythonize('fastloop.pyx'),)\n",
    "```"
   ]
  },
  {
   "cell_type": "markdown",
   "metadata": {},
   "source": [
    "然后，我们在 terminal 中对 `fastloop.pyx` 进行编译，命令如下：\n",
    "\n",
    "```sh\n",
    "python setup.py build_ext --inplace\n",
    "```\n",
    "\n",
    "这个命令会生成 C 代码文件 `fastloop.c` 和一个编译好的 Python 库文件 `fastloop.so`。\n",
    "\n",
    "然后我们对这个库文件进行测试"
   ]
  },
  {
   "cell_type": "code",
   "execution_count": 2,
   "metadata": {
    "collapsed": false
   },
   "outputs": [
    {
     "name": "stdout",
     "output_type": "stream",
     "text": [
      "10 loops, best of 3: 87.3 ms per loop\n"
     ]
    }
   ],
   "source": [
    "from fastloop import rbf_network\n",
    "%timeit rbf_network(X, beta, theta) # 87.3 ms per loop"
   ]
  },
  {
   "cell_type": "markdown",
   "metadata": {},
   "source": [
    "果然快了很多，但是我们还有提升空间。Cython 中有很多提升性能的小技巧。下面将介绍第一个，如果我们在 terminal 中输入\n",
    "\n",
    "```sh\n",
    "cython fastloop.pyx -a\n",
    "```\n",
    "\n",
    "我们将生成一个 `fastloop.html` 文件，我们在浏览器中打开它。如下图所示\n",
    "<img src=\"html.png\",width=500>\n",
    "\n",
    "黄色高亮的语句仍然在使用 Python 运行，导致程序变慢。我们优化的目标是避免黄色高亮语句，尤其是在循环中。\n",
    "\n",
    "我们的第一个问题是依旧在使用 Python 版本的指数函数，应该把它替换成 C 版本的。 `math.h` 中的大多数函数都包含在了 Cython 的 `libc` 库中，所以只需要用下面的语句替换 `from math import exp` \n",
    "\n",
    "```python\n",
    "from libc.math import exp\n",
    "```\n",
    "\n",
    "接下来我们需要增加一些编译指令（[compiler directives](docs.cython.org/en/latest/src/reference/compilation.html#compiler-directives)），最简单的方法是将下面的这行增加到 `fastloop.pyx` 文件头部\n",
    "\n",
    "```python\n",
    "#cython: boundscheck=False, wraparound=False, nonecheck=False\n",
    "```\n",
    "\n",
    "通过把这些检测关掉，一旦程序出错，你只能得到段错误的提示，而不是像 python 中那种特别详细的信息，因此，最好是先把代码的错误排除干净，再添加该行。\n",
    "\n",
    "接下来我们可以考虑修改编译器参数（这些属于 C 语言的技巧）。当我们用 `gcc` 时，最重要的编译选项是 `-ffast-math`。在我有限的经验中，这可以大大提高程序速度，而不损失可靠性。为了实现这个改变，我们需要修改 `setup.py` 文件。\n",
    "\n",
    "```python\n",
    "from distutils.core import setup\n",
    "from distutils.extension import Extension\n",
    "from Cython.Distutils import build_ext\n",
    "\n",
    "ext_modules=[ Extension(\"fastloop\",\n",
    "              [\"fastloop.pyx\"],\n",
    "              libraries=[\"m\"],\n",
    "              extra_compile_args=[\"-ffast-math\"])]\n",
    "              \n",
    "setup(\n",
    "    name='fastloop', \n",
    "    cmdclass={\"build_ext\": build_ext},\n",
    "    ext_modules=ext_modules) \n",
    "\n",
    "```\n",
    "\n",
    "现在再次运行 `cython fastloop.pyx -a`，我们看到循环中的语句已经不是用 Python 运行的了：\n",
    "<img src='html1.png', width=500>\n",
    "\n",
    "循环之外的黄色语句在这里对程序运行速度没有太大影响（如果需要在循环中多次调用这个函数，那么将会影响速度）。\n",
    "\n",
    "我们可以重新编译程序，并测速\n",
    "\n",
    "```"
   ]
  },
  {
   "cell_type": "code",
   "execution_count": null,
   "metadata": {
    "collapsed": false
   },
   "outputs": [],
   "source": [
    "from fastloop import rbf_network \n",
    "%timeit rbf_network(X, beta, theta) # 21.7 ms per loop"
   ]
  },
  {
   "cell_type": "code",
   "execution_count": null,
   "metadata": {
    "collapsed": true
   },
   "outputs": [],
   "source": []
  }
 ],
 "metadata": {
  "kernelspec": {
   "display_name": "Python 2",
   "language": "python",
   "name": "python2"
  },
  "language_info": {
   "codemirror_mode": {
    "name": "ipython",
    "version": 2
   },
   "file_extension": ".py",
   "mimetype": "text/x-python",
   "name": "python",
   "nbconvert_exporter": "python",
   "pygments_lexer": "ipython2",
   "version": "2.7.13"
  }
 },
 "nbformat": 4,
 "nbformat_minor": 2
}
